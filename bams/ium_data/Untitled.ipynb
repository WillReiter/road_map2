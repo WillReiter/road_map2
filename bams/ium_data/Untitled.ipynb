{
 "cells": [
  {
   "cell_type": "code",
   "execution_count": 6,
   "metadata": {},
   "outputs": [],
   "source": [
    "import os\n",
    "filepath = \"/home/syao/Desktop/trajGRU/20100601/\""
   ]
  },
  {
   "cell_type": "code",
   "execution_count": 13,
   "metadata": {},
   "outputs": [
    {
     "data": {
      "text/plain": [
       "'.ipynb_checkpoints'"
      ]
     },
     "execution_count": 13,
     "metadata": {},
     "output_type": "execute_result"
    }
   ],
   "source": [
    "name_list=os.listdir(filepath)\n",
    "name_list.sort()\n",
    "if name_list[0]"
   ]
  },
  {
   "cell_type": "code",
   "execution_count": null,
   "metadata": {},
   "outputs": [],
   "source": [
    "nc_data_path = '/home/syao/Desktop/trajGRU/20100601'\n",
    "info_path = \"/home/syao/Desktop/trajGRU/bams/ium_data/info\""
   ]
  },
  {
   "cell_type": "code",
   "execution_count": 14,
   "metadata": {},
   "outputs": [],
   "source": [
    "def generate_datetime_set(seq_len, low_min=4, high_min=9):\n",
    "\t\"\"\" main code: generate train/valid/test dataset\n",
    "\t:type seq_len: int\n",
    "\t:type low_min: int\n",
    "\t:type high_min: int\n",
    "\t\n",
    "\t\"\"\"\n",
    "\tdateset_path = os.path.join(info_path, \"squence_len_{}\".format(seq_len))\n",
    "\ttrain_dateset_path = os.path.join(dateset_path, \"bj_train_set.txt\")\n",
    "\tvalid_dateset_path = os.path.join(dateset_path, \"bj_valid_set.txt\")\n",
    "\ttest_dateset_path = os.path.join(dateset_path, \"bj_test_set.txt\")\n",
    "\n",
    "\tflag1 = os.path.exists(train_dateset_path)\n",
    "\tflag2 = os.path.exists(valid_dateset_path)\n",
    "\tflag3 = os.path.exists(test_dateset_path)\n",
    "\n",
    "\tif not (flag1 and flag2 and flag3):\n",
    "\t\tprint(\"generate squence len {} dataset!\".format(seq_len))\n",
    "\t\t\n",
    "\t\t## 调用 write_time_mask(), 生成有效的滑动窗口\n",
    "\t\twrite_time_mask(seq_len = seq_len, low_min=low_min, high_min=high_min)\n",
    "\t\t\n",
    "\t\t## 调用 read_valid_datetime(), 返回滑动窗口结果\n",
    "\t\tvalid_datetime = read_valid_datetime(dateset_path,\\\n",
    "\t\t\t\t\t\t\"time_mask_\" + str(seq_len) + \"_timedelta_\" + str(low_min) + str (high_min) + \".txt\")\n",
    "\t\t\n",
    "\t\t## 调用 split_dataset2(), 得到划分好的数据集\n",
    "\t\ttrain_set, valid_set, test_set = split_dataset2(valid_datetime)\n",
    "\t\t\n",
    "\t\t## 调用 write_date_set(), 保存train/valid/test的txt文件\n",
    "\t\twrite_date_set(train_set, train_dateset_path)\n",
    "\t\twrite_date_set(valid_set, valid_dateset_path)\n",
    "\t\twrite_date_set(test_set, test_dateset_path)\n",
    "\telse:\n",
    "\t\tprint(\"dateset already exists!\")\n"
   ]
  },
  {
   "cell_type": "code",
   "execution_count": 8,
   "metadata": {},
   "outputs": [],
   "source": [
    "def make_data(filepath):\n",
    "    name_list=os.listdir(filepath)"
   ]
  },
  {
   "cell_type": "code",
   "execution_count": 15,
   "metadata": {},
   "outputs": [],
   "source": [
    "import os\n",
    "import sys\n",
    "import time\n",
    "import warnings\n",
    "warnings.filterwarnings('ignore')\n",
    "sys.path.append('/home/syao/Desktop/trajGRU/bams')\n",
    "os.environ[\"CUDA_VISIBLE_DEVICES\"] = '0'"
   ]
  },
  {
   "cell_type": "code",
   "execution_count": null,
   "metadata": {},
   "outputs": [],
   "source": []
  }
 ],
 "metadata": {
  "kernelspec": {
   "display_name": "Python 3",
   "language": "python",
   "name": "python3"
  },
  "language_info": {
   "codemirror_mode": {
    "name": "ipython",
    "version": 3
   },
   "file_extension": ".py",
   "mimetype": "text/x-python",
   "name": "python",
   "nbconvert_exporter": "python",
   "pygments_lexer": "ipython3",
   "version": "3.8.5"
  }
 },
 "nbformat": 4,
 "nbformat_minor": 4
}
